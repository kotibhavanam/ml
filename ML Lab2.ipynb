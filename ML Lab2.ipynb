{
 "cells": [
  {
   "cell_type": "code",
   "execution_count": 1,
   "id": "661f5648",
   "metadata": {},
   "outputs": [],
   "source": [
    "import pandas as pd\n",
    "import numpy as np\n",
    "\n",
    "\n",
    "df = pd.read_excel(\"lab2.xlsx\", sheet_name = \"thyroid0387_UCI\")"
   ]
  },
  {
   "cell_type": "code",
   "execution_count": 2,
   "id": "3a0fcd6a",
   "metadata": {},
   "outputs": [
    {
     "data": {
      "text/html": [
       "<div>\n",
       "<style scoped>\n",
       "    .dataframe tbody tr th:only-of-type {\n",
       "        vertical-align: middle;\n",
       "    }\n",
       "\n",
       "    .dataframe tbody tr th {\n",
       "        vertical-align: top;\n",
       "    }\n",
       "\n",
       "    .dataframe thead th {\n",
       "        text-align: right;\n",
       "    }\n",
       "</style>\n",
       "<table border=\"1\" class=\"dataframe\">\n",
       "  <thead>\n",
       "    <tr style=\"text-align: right;\">\n",
       "      <th></th>\n",
       "      <th>Record ID</th>\n",
       "      <th>age</th>\n",
       "      <th>sex</th>\n",
       "      <th>on thyroxine</th>\n",
       "      <th>query on thyroxine</th>\n",
       "      <th>on antithyroid medication</th>\n",
       "      <th>sick</th>\n",
       "      <th>pregnant</th>\n",
       "      <th>thyroid surgery</th>\n",
       "      <th>I131 treatment</th>\n",
       "      <th>...</th>\n",
       "      <th>TT4 measured</th>\n",
       "      <th>TT4</th>\n",
       "      <th>T4U measured</th>\n",
       "      <th>T4U</th>\n",
       "      <th>FTI measured</th>\n",
       "      <th>FTI</th>\n",
       "      <th>TBG measured</th>\n",
       "      <th>TBG</th>\n",
       "      <th>referral source</th>\n",
       "      <th>Condition</th>\n",
       "    </tr>\n",
       "  </thead>\n",
       "  <tbody>\n",
       "    <tr>\n",
       "      <th>0</th>\n",
       "      <td>840801013</td>\n",
       "      <td>29</td>\n",
       "      <td>F</td>\n",
       "      <td>f</td>\n",
       "      <td>f</td>\n",
       "      <td>f</td>\n",
       "      <td>f</td>\n",
       "      <td>f</td>\n",
       "      <td>f</td>\n",
       "      <td>f</td>\n",
       "      <td>...</td>\n",
       "      <td>f</td>\n",
       "      <td>?</td>\n",
       "      <td>f</td>\n",
       "      <td>?</td>\n",
       "      <td>f</td>\n",
       "      <td>?</td>\n",
       "      <td>f</td>\n",
       "      <td>?</td>\n",
       "      <td>other</td>\n",
       "      <td>NO CONDITION</td>\n",
       "    </tr>\n",
       "    <tr>\n",
       "      <th>1</th>\n",
       "      <td>840801014</td>\n",
       "      <td>29</td>\n",
       "      <td>F</td>\n",
       "      <td>f</td>\n",
       "      <td>f</td>\n",
       "      <td>f</td>\n",
       "      <td>f</td>\n",
       "      <td>f</td>\n",
       "      <td>f</td>\n",
       "      <td>f</td>\n",
       "      <td>...</td>\n",
       "      <td>t</td>\n",
       "      <td>128</td>\n",
       "      <td>f</td>\n",
       "      <td>?</td>\n",
       "      <td>f</td>\n",
       "      <td>?</td>\n",
       "      <td>f</td>\n",
       "      <td>?</td>\n",
       "      <td>other</td>\n",
       "      <td>NO CONDITION</td>\n",
       "    </tr>\n",
       "    <tr>\n",
       "      <th>2</th>\n",
       "      <td>840801042</td>\n",
       "      <td>41</td>\n",
       "      <td>F</td>\n",
       "      <td>f</td>\n",
       "      <td>f</td>\n",
       "      <td>f</td>\n",
       "      <td>f</td>\n",
       "      <td>f</td>\n",
       "      <td>f</td>\n",
       "      <td>f</td>\n",
       "      <td>...</td>\n",
       "      <td>f</td>\n",
       "      <td>?</td>\n",
       "      <td>f</td>\n",
       "      <td>?</td>\n",
       "      <td>f</td>\n",
       "      <td>?</td>\n",
       "      <td>t</td>\n",
       "      <td>11</td>\n",
       "      <td>other</td>\n",
       "      <td>NO CONDITION</td>\n",
       "    </tr>\n",
       "    <tr>\n",
       "      <th>3</th>\n",
       "      <td>840803046</td>\n",
       "      <td>36</td>\n",
       "      <td>F</td>\n",
       "      <td>f</td>\n",
       "      <td>f</td>\n",
       "      <td>f</td>\n",
       "      <td>f</td>\n",
       "      <td>f</td>\n",
       "      <td>f</td>\n",
       "      <td>f</td>\n",
       "      <td>...</td>\n",
       "      <td>f</td>\n",
       "      <td>?</td>\n",
       "      <td>f</td>\n",
       "      <td>?</td>\n",
       "      <td>f</td>\n",
       "      <td>?</td>\n",
       "      <td>t</td>\n",
       "      <td>26</td>\n",
       "      <td>other</td>\n",
       "      <td>NO CONDITION</td>\n",
       "    </tr>\n",
       "    <tr>\n",
       "      <th>4</th>\n",
       "      <td>840803047</td>\n",
       "      <td>32</td>\n",
       "      <td>F</td>\n",
       "      <td>f</td>\n",
       "      <td>f</td>\n",
       "      <td>f</td>\n",
       "      <td>f</td>\n",
       "      <td>f</td>\n",
       "      <td>f</td>\n",
       "      <td>f</td>\n",
       "      <td>...</td>\n",
       "      <td>f</td>\n",
       "      <td>?</td>\n",
       "      <td>f</td>\n",
       "      <td>?</td>\n",
       "      <td>f</td>\n",
       "      <td>?</td>\n",
       "      <td>t</td>\n",
       "      <td>36</td>\n",
       "      <td>other</td>\n",
       "      <td>S</td>\n",
       "    </tr>\n",
       "  </tbody>\n",
       "</table>\n",
       "<p>5 rows × 31 columns</p>\n",
       "</div>"
      ],
      "text/plain": [
       "   Record ID  age sex on thyroxine query on thyroxine  \\\n",
       "0  840801013   29   F            f                  f   \n",
       "1  840801014   29   F            f                  f   \n",
       "2  840801042   41   F            f                  f   \n",
       "3  840803046   36   F            f                  f   \n",
       "4  840803047   32   F            f                  f   \n",
       "\n",
       "  on antithyroid medication sick pregnant thyroid surgery I131 treatment  ...  \\\n",
       "0                         f    f        f               f              f  ...   \n",
       "1                         f    f        f               f              f  ...   \n",
       "2                         f    f        f               f              f  ...   \n",
       "3                         f    f        f               f              f  ...   \n",
       "4                         f    f        f               f              f  ...   \n",
       "\n",
       "  TT4 measured  TT4 T4U measured T4U FTI measured FTI TBG measured TBG  \\\n",
       "0            f    ?            f   ?            f   ?            f   ?   \n",
       "1            t  128            f   ?            f   ?            f   ?   \n",
       "2            f    ?            f   ?            f   ?            t  11   \n",
       "3            f    ?            f   ?            f   ?            t  26   \n",
       "4            f    ?            f   ?            f   ?            t  36   \n",
       "\n",
       "  referral source     Condition  \n",
       "0           other  NO CONDITION  \n",
       "1           other  NO CONDITION  \n",
       "2           other  NO CONDITION  \n",
       "3           other  NO CONDITION  \n",
       "4           other             S  \n",
       "\n",
       "[5 rows x 31 columns]"
      ]
     },
     "execution_count": 2,
     "metadata": {},
     "output_type": "execute_result"
    }
   ],
   "source": [
    "df.head()"
   ]
  },
  {
   "cell_type": "code",
   "execution_count": 3,
   "id": "0750ef2e",
   "metadata": {},
   "outputs": [
    {
     "name": "stdout",
     "output_type": "stream",
     "text": [
      "[0.3 1.6 '?' 0.7 1.2 1.9 1 0.5 2.6 68 1.5 5.9 0.05 4 0.4 0.8 0.2 3\n",
      " 9.599999 140 0.6 1.7 2.5 6.8 2.1 1.1 9.799999 3.7 0.1 0.35 90 1.3 2.7 2.9\n",
      " 0.25 5.8 2 0.9 3.2 7.4 1.8 5 70 6.5 11.599999 4.2 88 2.2 53 16.5 8.4 4.1\n",
      " 3.3 80 176 30 11 6 71 9.099999 10.7 4.9 3.4 1.83 4.6 1.4 14 3.5 46 18 170\n",
      " 19.199999 7.5 145 7.9 19 48 25 7.3 6.7 153 35 3.8 2.3 9.2 12 5.5\n",
      " 15.299999 0.15 10.299999 430 213 37 216 26 4.3 2.4 47 8.2 14.4 17.4 100\n",
      " 13.2 41 3.1 22 45 4.5 24 65 4.4 56 11.4 5.2 5.6 8.299999 400 260 5.4 8\n",
      " 6.6 8.5 5.1 138 42 44 2.8 10 54 3.9 150]\n",
      "----------------------------------------------------------------------------------------------------\n",
      "['?' 1.9 2.6 1.8 1.7 2.3 2.4 2.9 2 2.1 1.6 0.1 1.4 1.2 1.5 1.3 2.5 2.7 2.2\n",
      " 2.8 3.2 0.4 0.8 1 1.1 3.7 4.4 3 3.1 3.6 7.6 0.9 4.2 0.5 0.6 0.3 0.7 3.8\n",
      " 0.2 4.1 6.6 4.7 8.599999 3.3 4.3 0.05 3.4]\n"
     ]
    }
   ],
   "source": [
    "#nominal -- numbers\n",
    "print((df[\"TSH\"].unique()))\n",
    "print(\"--\"*50)\n",
    "print((df[\"T3\"].unique()))"
   ]
  },
  {
   "cell_type": "code",
   "execution_count": 4,
   "id": "00885b13",
   "metadata": {},
   "outputs": [
    {
     "name": "stdout",
     "output_type": "stream",
     "text": [
      "['?' 47 85 84 96 105 95 106 176 129 100 69 39 91 90 93 66 121 92 173 117\n",
      " 31 113 67 101 126 123 149 68 86 132 131 116 97 124 136 142 104 7.5 107 73\n",
      " 110 130 88 128 122 102 134 163 63 354 81 109 114 133 170 99 111 108 161\n",
      " 78 148 98 135 80 127 213 119 65 89 143 316 155 172 150 103 120 258 5 272\n",
      " 263 166 138 52 164 337 94 118 182 41 70 144 10 4 13 87 140 74 152 77 3 82\n",
      " 145 64 79 147 54 83 634 650 12 61 11 115 35 17 165 167 153 44 3.4 55 71\n",
      " 253 75 2.5 197 24 156 237 203 112 141 3.5 190 37 45 193 57 76 160 6 200\n",
      " 485 49 158 137 428 450 174 189 202 159 196 154 139 34 222 184 178 146 125\n",
      " 21 157 51 839 332 151 305 299 266 32 53 370 22 168 60 187 171 220 169 232\n",
      " 254 345 194 211 217 550 23 257 188 192 179 218 208 6.6 240]\n",
      "----------------------------------------------------------------------------------------------------\n",
      "['?' 128 116 76 83 133 105 122 48 90 79 104 88 107 126 113 150 93 157 80\n",
      " 91 47 39 71 111 86 136 163 118 82 33 134 60 102 97 115 132 114 94 145 106\n",
      " 87 120 121 152 98 109 139 131 112 64 7.5 68 99 92 95 100 184 81 308 57\n",
      " 170 130 51 144 73 63 78 129 85 125 196 153 96 127 108 250 141 110 101 210\n",
      " 140 74 188 3.9 117 84 138 119 27 89 236 32 55 72 44 158 69 9 6 15 149 13\n",
      " 61 182 4 178 135 70 151 56 59 213 77 222 195 14 12 40 67 16 167 148 147\n",
      " 123 50 65 66 7.6 4.1 49 75 202 3 169 200 24 242 162 103 143 186 124 58 35\n",
      " 180 359 43 225 137 166 302 62 206 52 155 142 261 176 22 260 159 54 287\n",
      " 230 36 172 296 21 154 183 198 174 208 245 217 11 207 42 228 46 201 212 23\n",
      " 333 38 168 41 175 146 211 181 156 9.7]\n",
      "['?' 1.02 1.06 0.94 1.08 0.84 1.13 1.07 0.87 0.89 0.62 0.91 0.68 1 1.38\n",
      " 0.79 0.95 1.57 0.92 1.48 1.1 0.7 1.01 1.05 0.96 0.78 1.4 0.66 0.86 0.76\n",
      " 0.9 1.16 1.12 0.98 1.04 1.26 0.83 0.97 0.93 0.88 0.73 1.29 1.3 0.75 0.8\n",
      " 1.83 1.03 0.61 1.44 1.18 0.59 0.81 0.64 1.2 0.82 1.19 0.99 1.56 1.22 0.71\n",
      " 1.32 0.67 0.32 1.11 0.85 0.52 1.15 1.21 0.77 0.69 1.51 1.33 0.55 1.45\n",
      " 1.24 1.79 0.72 1.73 1.27 1.68 1.09 1.43 0.35 0.3 1.28 0.2 1.41 1.14 0.53\n",
      " 1.52 1.23 0.74 1.53 1.62 1.66 0.4 1.86 1.59 0.29 0.34 1.17 1.76 0.57 0.63\n",
      " 1.71 0.31 0.49 1.31 1.34 0.5 1.75 1.36 0.36 1.42 0.6 1.74 1.46]\n",
      "----------------------------------------------------------------------------------------------------\n",
      "['?' 47 85 84 96 105 95 106 176 129 100 69 39 91 90 93 66 121 92 173 117\n",
      " 31 113 67 101 126 123 149 68 86 132 131 116 97 124 136 142 104 7.5 107 73\n",
      " 110 130 88 128 122 102 134 163 63 354 81 109 114 133 170 99 111 108 161\n",
      " 78 148 98 135 80 127 213 119 65 89 143 316 155 172 150 103 120 258 5 272\n",
      " 263 166 138 52 164 337 94 118 182 41 70 144 10 4 13 87 140 74 152 77 3 82\n",
      " 145 64 79 147 54 83 634 650 12 61 11 115 35 17 165 167 153 44 3.4 55 71\n",
      " 253 75 2.5 197 24 156 237 203 112 141 3.5 190 37 45 193 57 76 160 6 200\n",
      " 485 49 158 137 428 450 174 189 202 159 196 154 139 34 222 184 178 146 125\n",
      " 21 157 51 839 332 151 305 299 266 32 53 370 22 168 60 187 171 220 169 232\n",
      " 254 345 194 211 217 550 23 257 188 192 179 218 208 6.6 240]\n",
      "\n",
      "['?' 11 26 36 21 28 23 18 33 20 19 30 29 24 9.299999 25 53 27]\n",
      "----------------------------------------------------------------------------------------------------\n"
     ]
    }
   ],
   "source": [
    "print((df[\"FTI\"].unique()))\n",
    "print(\"--\"*50)\n",
    "print((df[\"TT4\"].unique()))\n",
    "\n",
    "print((df[\"T4U\"].unique()))\n",
    "print(\"--\"*50)\n",
    "print((df[\"FTI\"].unique()))\n",
    "print()\n",
    "print((df[\"TBG\"].unique()))\n",
    "print(\"--\"*50)\n"
   ]
  },
  {
   "cell_type": "code",
   "execution_count": 5,
   "id": "bf210e5c",
   "metadata": {},
   "outputs": [],
   "source": [
    "df['TSH'] = df['TSH'].replace('?', float('nan'))"
   ]
  },
  {
   "cell_type": "code",
   "execution_count": 6,
   "id": "80a384ff",
   "metadata": {},
   "outputs": [
    {
     "name": "stdout",
     "output_type": "stream",
     "text": [
      "0       0.3\n",
      "1       1.6\n",
      "2       NaN\n",
      "3       NaN\n",
      "4       NaN\n",
      "       ... \n",
      "995     0.1\n",
      "996    53.0\n",
      "997     NaN\n",
      "998     0.1\n",
      "999     3.3\n",
      "Name: TSH, Length: 1000, dtype: float64\n"
     ]
    }
   ],
   "source": [
    "print(df[\"TSH\"])"
   ]
  },
  {
   "cell_type": "code",
   "execution_count": 7,
   "id": "5834c1bf",
   "metadata": {},
   "outputs": [
    {
     "data": {
      "text/plain": [
       "6.5596384079096035"
      ]
     },
     "execution_count": 7,
     "metadata": {},
     "output_type": "execute_result"
    }
   ],
   "source": [
    "column_mean = df['TSH'].mean()\n",
    "column_mean"
   ]
  },
  {
   "cell_type": "code",
   "execution_count": 8,
   "id": "13c2848d",
   "metadata": {},
   "outputs": [],
   "source": [
    "df['TSH'].fillna(column_mean, inplace=True)"
   ]
  },
  {
   "cell_type": "code",
   "execution_count": 9,
   "id": "9f60d4ba",
   "metadata": {},
   "outputs": [],
   "source": [
    "df['TSH'] = df['TSH'].replace('?', float('nan'))"
   ]
  },
  {
   "cell_type": "code",
   "execution_count": 10,
   "id": "fb284dbb",
   "metadata": {},
   "outputs": [
    {
     "name": "stdout",
     "output_type": "stream",
     "text": [
      "0      False\n",
      "1      False\n",
      "2      False\n",
      "3      False\n",
      "4      False\n",
      "       ...  \n",
      "995    False\n",
      "996    False\n",
      "997    False\n",
      "998    False\n",
      "999    False\n",
      "Name: TSH, Length: 1000, dtype: bool\n"
     ]
    }
   ],
   "source": [
    "print(df[\"TSH\"].isnull())"
   ]
  },
  {
   "cell_type": "code",
   "execution_count": 11,
   "id": "fec5b0dd",
   "metadata": {},
   "outputs": [
    {
     "name": "stdout",
     "output_type": "stream",
     "text": [
      "0      NaN\n",
      "1      1.9\n",
      "2      NaN\n",
      "3      NaN\n",
      "4      NaN\n",
      "      ... \n",
      "995    2.1\n",
      "996    0.4\n",
      "997    NaN\n",
      "998    0.8\n",
      "999    1.2\n",
      "Name: T3, Length: 1000, dtype: float64\n",
      "1.8222431065162907\n"
     ]
    }
   ],
   "source": [
    "df['T3'] = df['T3'].replace('?', float('nan'))\n",
    "print(df[\"T3\"])\n",
    "\n",
    "column_mean = df['T3'].mean()\n",
    "print(column_mean)\n",
    "\n",
    "df['T3'].fillna(column_mean, inplace=True)\n",
    "\n",
    "df['T3'] = df['T3'].replace('?', float('nan'))"
   ]
  },
  {
   "cell_type": "code",
   "execution_count": 12,
   "id": "1490420d",
   "metadata": {},
   "outputs": [
    {
     "data": {
      "text/plain": [
       "0      1.822243\n",
       "1      1.900000\n",
       "2      1.822243\n",
       "3      1.822243\n",
       "4      1.822243\n",
       "         ...   \n",
       "995    2.100000\n",
       "996    0.400000\n",
       "997    1.822243\n",
       "998    0.800000\n",
       "999    1.200000\n",
       "Name: T3, Length: 1000, dtype: float64"
      ]
     },
     "execution_count": 12,
     "metadata": {},
     "output_type": "execute_result"
    }
   ],
   "source": [
    "df['T3']"
   ]
  },
  {
   "cell_type": "code",
   "execution_count": 13,
   "id": "d12b9848",
   "metadata": {},
   "outputs": [
    {
     "name": "stdout",
     "output_type": "stream",
     "text": [
      "0        NaN\n",
      "1        NaN\n",
      "2        NaN\n",
      "3        NaN\n",
      "4        NaN\n",
      "       ...  \n",
      "995    103.0\n",
      "996      6.6\n",
      "997      NaN\n",
      "998    240.0\n",
      "999     94.0\n",
      "Name: FTI, Length: 1000, dtype: float64\n",
      "114.60088691796008\n"
     ]
    }
   ],
   "source": [
    "df['FTI'] = df['FTI'].replace('?', float('nan'))\n",
    "print(df[\"FTI\"])\n",
    "\n",
    "column_mean = df['FTI'].mean()\n",
    "print(column_mean)\n",
    "\n",
    "df['FTI'].fillna(column_mean, inplace=True)\n",
    "\n",
    "df['FTI'] = df['FTI'].replace('?', float('nan'))"
   ]
  },
  {
   "cell_type": "code",
   "execution_count": 14,
   "id": "0a161a21",
   "metadata": {},
   "outputs": [
    {
     "name": "stdout",
     "output_type": "stream",
     "text": [
      "0        NaN\n",
      "1      128.0\n",
      "2        NaN\n",
      "3        NaN\n",
      "4        NaN\n",
      "       ...  \n",
      "995    148.0\n",
      "996      9.7\n",
      "997      NaN\n",
      "998    201.0\n",
      "999     85.0\n",
      "Name: TT4, Length: 1000, dtype: float64\n",
      "106.44770833333334\n"
     ]
    }
   ],
   "source": [
    "df['TT4'] = df['TT4'].replace('?', float('nan'))\n",
    "print(df[\"TT4\"])\n",
    "\n",
    "column_mean = df['TT4'].mean()\n",
    "print(column_mean)\n",
    "\n",
    "df['TT4'].fillna(column_mean, inplace=True)\n",
    "\n",
    "df['TT4'] = df['TT4'].replace('?', float('nan'))"
   ]
  },
  {
   "cell_type": "code",
   "execution_count": 15,
   "id": "41830429",
   "metadata": {},
   "outputs": [
    {
     "data": {
      "text/plain": [
       "0      106.447708\n",
       "1      128.000000\n",
       "2      106.447708\n",
       "3      106.447708\n",
       "4      106.447708\n",
       "          ...    \n",
       "995    148.000000\n",
       "996      9.700000\n",
       "997    106.447708\n",
       "998    201.000000\n",
       "999     85.000000\n",
       "Name: TT4, Length: 1000, dtype: float64"
      ]
     },
     "execution_count": 15,
     "metadata": {},
     "output_type": "execute_result"
    }
   ],
   "source": [
    "df['TT4']"
   ]
  },
  {
   "cell_type": "code",
   "execution_count": 16,
   "id": "7da9a304",
   "metadata": {},
   "outputs": [
    {
     "name": "stdout",
     "output_type": "stream",
     "text": [
      "0      106.447708\n",
      "1      128.000000\n",
      "2      106.447708\n",
      "3      106.447708\n",
      "4      106.447708\n",
      "          ...    \n",
      "995    148.000000\n",
      "996      9.700000\n",
      "997    106.447708\n",
      "998    201.000000\n",
      "999     85.000000\n",
      "Name: TT4, Length: 1000, dtype: float64\n",
      "0.972039911308204\n"
     ]
    }
   ],
   "source": [
    "df['T4U'] = df['T4U'].replace('?', float('nan'))\n",
    "print(df[\"TT4\"])\n",
    "\n",
    "column_mean = df['T4U'].mean()\n",
    "print(column_mean)\n",
    "\n",
    "df['T4U'].fillna(column_mean, inplace=True)\n",
    "\n",
    "df['T4U'] = df['T4U'].replace('?', float('nan'))"
   ]
  },
  {
   "cell_type": "code",
   "execution_count": 17,
   "id": "dc834662",
   "metadata": {},
   "outputs": [
    {
     "data": {
      "text/plain": [
       "0      106.447708\n",
       "1      128.000000\n",
       "2      106.447708\n",
       "3      106.447708\n",
       "4      106.447708\n",
       "          ...    \n",
       "995    148.000000\n",
       "996      9.700000\n",
       "997    106.447708\n",
       "998    201.000000\n",
       "999     85.000000\n",
       "Name: TT4, Length: 1000, dtype: float64"
      ]
     },
     "execution_count": 17,
     "metadata": {},
     "output_type": "execute_result"
    }
   ],
   "source": [
    "df['TT4']"
   ]
  },
  {
   "cell_type": "code",
   "execution_count": 18,
   "id": "0643e701",
   "metadata": {},
   "outputs": [
    {
     "name": "stdout",
     "output_type": "stream",
     "text": [
      "0      114.600887\n",
      "1      114.600887\n",
      "2      114.600887\n",
      "3      114.600887\n",
      "4      114.600887\n",
      "          ...    \n",
      "995    103.000000\n",
      "996      6.600000\n",
      "997    114.600887\n",
      "998    240.000000\n",
      "999     94.000000\n",
      "Name: FTI, Length: 1000, dtype: float64\n",
      "114.60088691796008\n"
     ]
    }
   ],
   "source": [
    "df['FTI'] = df['FTI'].replace('?', float('nan'))\n",
    "print(df[\"FTI\"])\n",
    "\n",
    "column_mean = df['FTI'].mean()\n",
    "print(column_mean)\n",
    "\n",
    "df['FTI'].fillna(column_mean, inplace=True)\n",
    "\n",
    "df['FTI'] = df['FTI'].replace('?', float('nan'))"
   ]
  },
  {
   "cell_type": "code",
   "execution_count": 19,
   "id": "dc6b1391",
   "metadata": {},
   "outputs": [
    {
     "data": {
      "text/plain": [
       "0      106.447708\n",
       "1      128.000000\n",
       "2      106.447708\n",
       "3      106.447708\n",
       "4      106.447708\n",
       "          ...    \n",
       "995    148.000000\n",
       "996      9.700000\n",
       "997    106.447708\n",
       "998    201.000000\n",
       "999     85.000000\n",
       "Name: TT4, Length: 1000, dtype: float64"
      ]
     },
     "execution_count": 19,
     "metadata": {},
     "output_type": "execute_result"
    }
   ],
   "source": [
    "df['TT4']"
   ]
  },
  {
   "cell_type": "code",
   "execution_count": 20,
   "id": "bc5c2b12",
   "metadata": {},
   "outputs": [
    {
     "name": "stdout",
     "output_type": "stream",
     "text": [
      "0       NaN\n",
      "1       NaN\n",
      "2      11.0\n",
      "3      26.0\n",
      "4      36.0\n",
      "       ... \n",
      "995     NaN\n",
      "996     NaN\n",
      "997    30.0\n",
      "998     NaN\n",
      "999     NaN\n",
      "Name: TBG, Length: 1000, dtype: float64\n",
      "26.23055552777778\n"
     ]
    }
   ],
   "source": [
    "df['TBG'] = df['TBG'].replace('?', float('nan'))\n",
    "print(df[\"TBG\"])\n",
    "\n",
    "column_mean = df['TBG'].mean()\n",
    "print(column_mean)\n",
    "\n",
    "df['TBG'].fillna(column_mean, inplace=True)\n",
    "\n",
    "df['TBG'] = df['TBG'].replace('?', float('nan'))"
   ]
  },
  {
   "cell_type": "code",
   "execution_count": 21,
   "id": "e438bd16",
   "metadata": {},
   "outputs": [
    {
     "data": {
      "text/plain": [
       "0      26.230556\n",
       "1      26.230556\n",
       "2      11.000000\n",
       "3      26.000000\n",
       "4      36.000000\n",
       "         ...    \n",
       "995    26.230556\n",
       "996    26.230556\n",
       "997    30.000000\n",
       "998    26.230556\n",
       "999    26.230556\n",
       "Name: TBG, Length: 1000, dtype: float64"
      ]
     },
     "execution_count": 21,
     "metadata": {},
     "output_type": "execute_result"
    }
   ],
   "source": [
    "df['TBG']"
   ]
  },
  {
   "cell_type": "code",
   "execution_count": 22,
   "id": "939f7e17",
   "metadata": {},
   "outputs": [],
   "source": [
    "df.to_excel('updated_dataset.xlsx', index=False)"
   ]
  },
  {
   "cell_type": "code",
   "execution_count": 24,
   "id": "f2f16f27",
   "metadata": {},
   "outputs": [],
   "source": [
    "df2 = pd.read_excel(\"updated_dataset.xlsx\")"
   ]
  },
  {
   "cell_type": "code",
   "execution_count": 25,
   "id": "068071bc",
   "metadata": {},
   "outputs": [
    {
     "data": {
      "text/html": [
       "<div>\n",
       "<style scoped>\n",
       "    .dataframe tbody tr th:only-of-type {\n",
       "        vertical-align: middle;\n",
       "    }\n",
       "\n",
       "    .dataframe tbody tr th {\n",
       "        vertical-align: top;\n",
       "    }\n",
       "\n",
       "    .dataframe thead th {\n",
       "        text-align: right;\n",
       "    }\n",
       "</style>\n",
       "<table border=\"1\" class=\"dataframe\">\n",
       "  <thead>\n",
       "    <tr style=\"text-align: right;\">\n",
       "      <th></th>\n",
       "      <th>Record ID</th>\n",
       "      <th>age</th>\n",
       "      <th>sex</th>\n",
       "      <th>on thyroxine</th>\n",
       "      <th>query on thyroxine</th>\n",
       "      <th>on antithyroid medication</th>\n",
       "      <th>sick</th>\n",
       "      <th>pregnant</th>\n",
       "      <th>thyroid surgery</th>\n",
       "      <th>I131 treatment</th>\n",
       "      <th>...</th>\n",
       "      <th>TT4 measured</th>\n",
       "      <th>TT4</th>\n",
       "      <th>T4U measured</th>\n",
       "      <th>T4U</th>\n",
       "      <th>FTI measured</th>\n",
       "      <th>FTI</th>\n",
       "      <th>TBG measured</th>\n",
       "      <th>TBG</th>\n",
       "      <th>referral source</th>\n",
       "      <th>Condition</th>\n",
       "    </tr>\n",
       "  </thead>\n",
       "  <tbody>\n",
       "    <tr>\n",
       "      <th>0</th>\n",
       "      <td>840801013</td>\n",
       "      <td>29</td>\n",
       "      <td>F</td>\n",
       "      <td>f</td>\n",
       "      <td>f</td>\n",
       "      <td>f</td>\n",
       "      <td>f</td>\n",
       "      <td>f</td>\n",
       "      <td>f</td>\n",
       "      <td>f</td>\n",
       "      <td>...</td>\n",
       "      <td>f</td>\n",
       "      <td>106.447708</td>\n",
       "      <td>f</td>\n",
       "      <td>0.97204</td>\n",
       "      <td>f</td>\n",
       "      <td>114.600887</td>\n",
       "      <td>f</td>\n",
       "      <td>26.230556</td>\n",
       "      <td>other</td>\n",
       "      <td>NO CONDITION</td>\n",
       "    </tr>\n",
       "    <tr>\n",
       "      <th>1</th>\n",
       "      <td>840801014</td>\n",
       "      <td>29</td>\n",
       "      <td>F</td>\n",
       "      <td>f</td>\n",
       "      <td>f</td>\n",
       "      <td>f</td>\n",
       "      <td>f</td>\n",
       "      <td>f</td>\n",
       "      <td>f</td>\n",
       "      <td>f</td>\n",
       "      <td>...</td>\n",
       "      <td>t</td>\n",
       "      <td>128.000000</td>\n",
       "      <td>f</td>\n",
       "      <td>0.97204</td>\n",
       "      <td>f</td>\n",
       "      <td>114.600887</td>\n",
       "      <td>f</td>\n",
       "      <td>26.230556</td>\n",
       "      <td>other</td>\n",
       "      <td>NO CONDITION</td>\n",
       "    </tr>\n",
       "    <tr>\n",
       "      <th>2</th>\n",
       "      <td>840801042</td>\n",
       "      <td>41</td>\n",
       "      <td>F</td>\n",
       "      <td>f</td>\n",
       "      <td>f</td>\n",
       "      <td>f</td>\n",
       "      <td>f</td>\n",
       "      <td>f</td>\n",
       "      <td>f</td>\n",
       "      <td>f</td>\n",
       "      <td>...</td>\n",
       "      <td>f</td>\n",
       "      <td>106.447708</td>\n",
       "      <td>f</td>\n",
       "      <td>0.97204</td>\n",
       "      <td>f</td>\n",
       "      <td>114.600887</td>\n",
       "      <td>t</td>\n",
       "      <td>11.000000</td>\n",
       "      <td>other</td>\n",
       "      <td>NO CONDITION</td>\n",
       "    </tr>\n",
       "    <tr>\n",
       "      <th>3</th>\n",
       "      <td>840803046</td>\n",
       "      <td>36</td>\n",
       "      <td>F</td>\n",
       "      <td>f</td>\n",
       "      <td>f</td>\n",
       "      <td>f</td>\n",
       "      <td>f</td>\n",
       "      <td>f</td>\n",
       "      <td>f</td>\n",
       "      <td>f</td>\n",
       "      <td>...</td>\n",
       "      <td>f</td>\n",
       "      <td>106.447708</td>\n",
       "      <td>f</td>\n",
       "      <td>0.97204</td>\n",
       "      <td>f</td>\n",
       "      <td>114.600887</td>\n",
       "      <td>t</td>\n",
       "      <td>26.000000</td>\n",
       "      <td>other</td>\n",
       "      <td>NO CONDITION</td>\n",
       "    </tr>\n",
       "    <tr>\n",
       "      <th>4</th>\n",
       "      <td>840803047</td>\n",
       "      <td>32</td>\n",
       "      <td>F</td>\n",
       "      <td>f</td>\n",
       "      <td>f</td>\n",
       "      <td>f</td>\n",
       "      <td>f</td>\n",
       "      <td>f</td>\n",
       "      <td>f</td>\n",
       "      <td>f</td>\n",
       "      <td>...</td>\n",
       "      <td>f</td>\n",
       "      <td>106.447708</td>\n",
       "      <td>f</td>\n",
       "      <td>0.97204</td>\n",
       "      <td>f</td>\n",
       "      <td>114.600887</td>\n",
       "      <td>t</td>\n",
       "      <td>36.000000</td>\n",
       "      <td>other</td>\n",
       "      <td>S</td>\n",
       "    </tr>\n",
       "    <tr>\n",
       "      <th>...</th>\n",
       "      <td>...</td>\n",
       "      <td>...</td>\n",
       "      <td>...</td>\n",
       "      <td>...</td>\n",
       "      <td>...</td>\n",
       "      <td>...</td>\n",
       "      <td>...</td>\n",
       "      <td>...</td>\n",
       "      <td>...</td>\n",
       "      <td>...</td>\n",
       "      <td>...</td>\n",
       "      <td>...</td>\n",
       "      <td>...</td>\n",
       "      <td>...</td>\n",
       "      <td>...</td>\n",
       "      <td>...</td>\n",
       "      <td>...</td>\n",
       "      <td>...</td>\n",
       "      <td>...</td>\n",
       "      <td>...</td>\n",
       "      <td>...</td>\n",
       "    </tr>\n",
       "    <tr>\n",
       "      <th>995</th>\n",
       "      <td>841031002</td>\n",
       "      <td>41</td>\n",
       "      <td>F</td>\n",
       "      <td>f</td>\n",
       "      <td>f</td>\n",
       "      <td>f</td>\n",
       "      <td>f</td>\n",
       "      <td>f</td>\n",
       "      <td>f</td>\n",
       "      <td>f</td>\n",
       "      <td>...</td>\n",
       "      <td>t</td>\n",
       "      <td>148.000000</td>\n",
       "      <td>t</td>\n",
       "      <td>1.44000</td>\n",
       "      <td>t</td>\n",
       "      <td>103.000000</td>\n",
       "      <td>f</td>\n",
       "      <td>26.230556</td>\n",
       "      <td>STMW</td>\n",
       "      <td>NO CONDITION</td>\n",
       "    </tr>\n",
       "    <tr>\n",
       "      <th>996</th>\n",
       "      <td>841031010</td>\n",
       "      <td>41</td>\n",
       "      <td>F</td>\n",
       "      <td>f</td>\n",
       "      <td>f</td>\n",
       "      <td>f</td>\n",
       "      <td>f</td>\n",
       "      <td>f</td>\n",
       "      <td>f</td>\n",
       "      <td>f</td>\n",
       "      <td>...</td>\n",
       "      <td>t</td>\n",
       "      <td>9.700000</td>\n",
       "      <td>t</td>\n",
       "      <td>1.46000</td>\n",
       "      <td>t</td>\n",
       "      <td>6.600000</td>\n",
       "      <td>f</td>\n",
       "      <td>26.230556</td>\n",
       "      <td>other</td>\n",
       "      <td>F</td>\n",
       "    </tr>\n",
       "    <tr>\n",
       "      <th>997</th>\n",
       "      <td>841031030</td>\n",
       "      <td>20</td>\n",
       "      <td>F</td>\n",
       "      <td>f</td>\n",
       "      <td>f</td>\n",
       "      <td>f</td>\n",
       "      <td>f</td>\n",
       "      <td>t</td>\n",
       "      <td>f</td>\n",
       "      <td>f</td>\n",
       "      <td>...</td>\n",
       "      <td>f</td>\n",
       "      <td>106.447708</td>\n",
       "      <td>f</td>\n",
       "      <td>0.97204</td>\n",
       "      <td>f</td>\n",
       "      <td>114.600887</td>\n",
       "      <td>t</td>\n",
       "      <td>30.000000</td>\n",
       "      <td>other</td>\n",
       "      <td>NO CONDITION</td>\n",
       "    </tr>\n",
       "    <tr>\n",
       "      <th>998</th>\n",
       "      <td>841031031</td>\n",
       "      <td>20</td>\n",
       "      <td>F</td>\n",
       "      <td>f</td>\n",
       "      <td>f</td>\n",
       "      <td>f</td>\n",
       "      <td>f</td>\n",
       "      <td>f</td>\n",
       "      <td>f</td>\n",
       "      <td>f</td>\n",
       "      <td>...</td>\n",
       "      <td>t</td>\n",
       "      <td>201.000000</td>\n",
       "      <td>t</td>\n",
       "      <td>0.84000</td>\n",
       "      <td>t</td>\n",
       "      <td>240.000000</td>\n",
       "      <td>f</td>\n",
       "      <td>26.230556</td>\n",
       "      <td>SVI</td>\n",
       "      <td>AK</td>\n",
       "    </tr>\n",
       "    <tr>\n",
       "      <th>999</th>\n",
       "      <td>841031032</td>\n",
       "      <td>73</td>\n",
       "      <td>F</td>\n",
       "      <td>f</td>\n",
       "      <td>f</td>\n",
       "      <td>f</td>\n",
       "      <td>f</td>\n",
       "      <td>f</td>\n",
       "      <td>f</td>\n",
       "      <td>f</td>\n",
       "      <td>...</td>\n",
       "      <td>t</td>\n",
       "      <td>85.000000</td>\n",
       "      <td>t</td>\n",
       "      <td>0.90000</td>\n",
       "      <td>t</td>\n",
       "      <td>94.000000</td>\n",
       "      <td>f</td>\n",
       "      <td>26.230556</td>\n",
       "      <td>SVI</td>\n",
       "      <td>NO CONDITION</td>\n",
       "    </tr>\n",
       "  </tbody>\n",
       "</table>\n",
       "<p>1000 rows × 31 columns</p>\n",
       "</div>"
      ],
      "text/plain": [
       "     Record ID  age sex on thyroxine query on thyroxine  \\\n",
       "0    840801013   29   F            f                  f   \n",
       "1    840801014   29   F            f                  f   \n",
       "2    840801042   41   F            f                  f   \n",
       "3    840803046   36   F            f                  f   \n",
       "4    840803047   32   F            f                  f   \n",
       "..         ...  ...  ..          ...                ...   \n",
       "995  841031002   41   F            f                  f   \n",
       "996  841031010   41   F            f                  f   \n",
       "997  841031030   20   F            f                  f   \n",
       "998  841031031   20   F            f                  f   \n",
       "999  841031032   73   F            f                  f   \n",
       "\n",
       "    on antithyroid medication sick pregnant thyroid surgery I131 treatment  \\\n",
       "0                           f    f        f               f              f   \n",
       "1                           f    f        f               f              f   \n",
       "2                           f    f        f               f              f   \n",
       "3                           f    f        f               f              f   \n",
       "4                           f    f        f               f              f   \n",
       "..                        ...  ...      ...             ...            ...   \n",
       "995                         f    f        f               f              f   \n",
       "996                         f    f        f               f              f   \n",
       "997                         f    f        t               f              f   \n",
       "998                         f    f        f               f              f   \n",
       "999                         f    f        f               f              f   \n",
       "\n",
       "     ... TT4 measured         TT4 T4U measured      T4U FTI measured  \\\n",
       "0    ...            f  106.447708            f  0.97204            f   \n",
       "1    ...            t  128.000000            f  0.97204            f   \n",
       "2    ...            f  106.447708            f  0.97204            f   \n",
       "3    ...            f  106.447708            f  0.97204            f   \n",
       "4    ...            f  106.447708            f  0.97204            f   \n",
       "..   ...          ...         ...          ...      ...          ...   \n",
       "995  ...            t  148.000000            t  1.44000            t   \n",
       "996  ...            t    9.700000            t  1.46000            t   \n",
       "997  ...            f  106.447708            f  0.97204            f   \n",
       "998  ...            t  201.000000            t  0.84000            t   \n",
       "999  ...            t   85.000000            t  0.90000            t   \n",
       "\n",
       "            FTI TBG measured        TBG  referral source     Condition  \n",
       "0    114.600887            f  26.230556            other  NO CONDITION  \n",
       "1    114.600887            f  26.230556            other  NO CONDITION  \n",
       "2    114.600887            t  11.000000            other  NO CONDITION  \n",
       "3    114.600887            t  26.000000            other  NO CONDITION  \n",
       "4    114.600887            t  36.000000            other             S  \n",
       "..          ...          ...        ...              ...           ...  \n",
       "995  103.000000            f  26.230556             STMW  NO CONDITION  \n",
       "996    6.600000            f  26.230556            other             F  \n",
       "997  114.600887            t  30.000000            other  NO CONDITION  \n",
       "998  240.000000            f  26.230556              SVI            AK  \n",
       "999   94.000000            f  26.230556              SVI  NO CONDITION  \n",
       "\n",
       "[1000 rows x 31 columns]"
      ]
     },
     "execution_count": 25,
     "metadata": {},
     "output_type": "execute_result"
    }
   ],
   "source": [
    "df2"
   ]
  },
  {
   "cell_type": "code",
   "execution_count": 26,
   "id": "319f60ab",
   "metadata": {},
   "outputs": [
    {
     "name": "stdout",
     "output_type": "stream",
     "text": [
      "Columns containing '?' (NaN) values:\n",
      "['sex']\n"
     ]
    }
   ],
   "source": [
    "df2 = df2.replace('?', np.nan)\n",
    "\n",
    "# Check which columns contain NaN (formerly '?')\n",
    "columns_with_question_mark = df2.columns[df2.isna().any()].tolist()\n",
    "\n",
    "print(\"Columns containing '?' (NaN) values:\")\n",
    "print(columns_with_question_mark)\n"
   ]
  },
  {
   "cell_type": "code",
   "execution_count": 27,
   "id": "ba52bab4",
   "metadata": {},
   "outputs": [
    {
     "name": "stdout",
     "output_type": "stream",
     "text": [
      "<class 'pandas.core.frame.DataFrame'>\n",
      "RangeIndex: 1000 entries, 0 to 999\n",
      "Data columns (total 31 columns):\n",
      " #   Column                     Non-Null Count  Dtype  \n",
      "---  ------                     --------------  -----  \n",
      " 0   Record ID                  1000 non-null   int64  \n",
      " 1   age                        1000 non-null   int64  \n",
      " 2   sex                        976 non-null    object \n",
      " 3   on thyroxine               1000 non-null   object \n",
      " 4   query on thyroxine         1000 non-null   object \n",
      " 5   on antithyroid medication  1000 non-null   object \n",
      " 6   sick                       1000 non-null   object \n",
      " 7   pregnant                   1000 non-null   object \n",
      " 8   thyroid surgery            1000 non-null   object \n",
      " 9   I131 treatment             1000 non-null   object \n",
      " 10  query hypothyroid          1000 non-null   object \n",
      " 11  query hyperthyroid         1000 non-null   object \n",
      " 12  lithium                    1000 non-null   object \n",
      " 13  goitre                     1000 non-null   object \n",
      " 14  tumor                      1000 non-null   object \n",
      " 15  hypopituitary              1000 non-null   object \n",
      " 16  psych                      1000 non-null   object \n",
      " 17  TSH measured               1000 non-null   object \n",
      " 18  TSH                        1000 non-null   float64\n",
      " 19  T3 measured                1000 non-null   object \n",
      " 20  T3                         1000 non-null   float64\n",
      " 21  TT4 measured               1000 non-null   object \n",
      " 22  TT4                        1000 non-null   float64\n",
      " 23  T4U measured               1000 non-null   object \n",
      " 24  T4U                        1000 non-null   float64\n",
      " 25  FTI measured               1000 non-null   object \n",
      " 26  FTI                        1000 non-null   float64\n",
      " 27  TBG measured               1000 non-null   object \n",
      " 28  TBG                        1000 non-null   float64\n",
      " 29  referral source            1000 non-null   object \n",
      " 30  Condition                  1000 non-null   object \n",
      "dtypes: float64(6), int64(2), object(23)\n",
      "memory usage: 242.3+ KB\n"
     ]
    }
   ],
   "source": [
    "df2.info()"
   ]
  },
  {
   "cell_type": "code",
   "execution_count": 28,
   "id": "bec6e73e",
   "metadata": {},
   "outputs": [],
   "source": [
    "import seaborn as sns"
   ]
  },
  {
   "cell_type": "code",
   "execution_count": 29,
   "id": "937c387e",
   "metadata": {},
   "outputs": [
    {
     "data": {
      "image/png": "[encoded data removed]",
      "text/plain": [
       "<Figure size 640x480 with 1 Axes>"
      ]
     },
     "metadata": {},
     "output_type": "display_data"
    }
   ],
   "source": [
    "import pandas as pd\n",
    "import matplotlib.pyplot as plt\n",
    "\n",
    "\n",
    "\n",
    "# List of columns you want to create box plots for\n",
    "selected_columns = ['age','TSH','T3','TT4','T4U','FTI','TBG']\n",
    "\n",
    "# Create box plots for the selected columns\n",
    "df2[selected_columns].boxplot()\n",
    "\n",
    "# Customize the plot (optional)\n",
    "plt.title(\"Box Plots for Selected Columns\")\n",
    "plt.ylabel(\"Values\")\n",
    "\n",
    "# Show the plot\n",
    "plt.show()\n"
   ]
  },
  {
   "cell_type": "code",
   "execution_count": 30,
   "id": "707a48f6",
   "metadata": {},
   "outputs": [],
   "source": [
    "import pandas as pd\n",
    "import numpy as np\n",
    "\n",
    "# Assuming you have a DataFrame named 'df' with selected columns\n",
    "# Example DataFrame:\n",
    "# df = pd.DataFrame({'Column1': [1, 10, 100, 1000, 10000], 'Column2': [2, 20, 200, 2000, 20000]})\n",
    "\n",
    "# List of selected columns for the transformation\n",
    "selected_columns = ['age','TSH','T3','TT4','T4U','FTI','TBG']  # Add all columns you want to transform\n",
    "\n",
    "# Apply a logarithmic transformation (base 10) to all selected columns\n",
    "for column in selected_columns:\n",
    "    df2[column] = np.log10(df2[column])\n",
    "\n",
    "# Now, all selected columns contain the logarithmically transformed values\n"
   ]
  },
  {
   "cell_type": "code",
   "execution_count": 31,
   "id": "b3aa6382",
   "metadata": {},
   "outputs": [
    {
     "data": {
      "image/png": "[encoded data removed]",
      "text/plain": [
       "<Figure size 640x480 with 1 Axes>"
      ]
     },
     "metadata": {},
     "output_type": "display_data"
    }
   ],
   "source": [
    "import pandas as pd\n",
    "import matplotlib.pyplot as plt\n",
    "\n",
    "\n",
    "\n",
    "# List of columns you want to create box plots for\n",
    "selected_columns = ['age','TSH','T3','TT4','T4U','FTI','TBG']\n",
    "\n",
    "# Create box plots for the selected columns\n",
    "df2[selected_columns].boxplot()\n",
    "\n",
    "# Customize the plot (optional)\n",
    "plt.title(\"Box Plots for Selected Columns\")\n",
    "plt.ylabel(\"Values\")\n",
    "\n",
    "# Show the plot\n",
    "plt.show()"
   ]
  },
  {
   "cell_type": "code",
   "execution_count": 32,
   "id": "34a2dd87",
   "metadata": {},
   "outputs": [],
   "source": [
    "# Fill missing gender values using mode imputation\n",
    "mode_gender = df2['sex'].mode()[0]\n",
    "df2['sex'].fillna(mode_gender, inplace=True)\n"
   ]
  },
  {
   "cell_type": "code",
   "execution_count": 33,
   "id": "6ff2d560",
   "metadata": {},
   "outputs": [
    {
     "name": "stdout",
     "output_type": "stream",
     "text": [
      "<class 'pandas.core.frame.DataFrame'>\n",
      "RangeIndex: 1000 entries, 0 to 999\n",
      "Data columns (total 31 columns):\n",
      " #   Column                     Non-Null Count  Dtype  \n",
      "---  ------                     --------------  -----  \n",
      " 0   Record ID                  1000 non-null   int64  \n",
      " 1   age                        1000 non-null   float64\n",
      " 2   sex                        1000 non-null   object \n",
      " 3   on thyroxine               1000 non-null   object \n",
      " 4   query on thyroxine         1000 non-null   object \n",
      " 5   on antithyroid medication  1000 non-null   object \n",
      " 6   sick                       1000 non-null   object \n",
      " 7   pregnant                   1000 non-null   object \n",
      " 8   thyroid surgery            1000 non-null   object \n",
      " 9   I131 treatment             1000 non-null   object \n",
      " 10  query hypothyroid          1000 non-null   object \n",
      " 11  query hyperthyroid         1000 non-null   object \n",
      " 12  lithium                    1000 non-null   object \n",
      " 13  goitre                     1000 non-null   object \n",
      " 14  tumor                      1000 non-null   object \n",
      " 15  hypopituitary              1000 non-null   object \n",
      " 16  psych                      1000 non-null   object \n",
      " 17  TSH measured               1000 non-null   object \n",
      " 18  TSH                        1000 non-null   float64\n",
      " 19  T3 measured                1000 non-null   object \n",
      " 20  T3                         1000 non-null   float64\n",
      " 21  TT4 measured               1000 non-null   object \n",
      " 22  TT4                        1000 non-null   float64\n",
      " 23  T4U measured               1000 non-null   object \n",
      " 24  T4U                        1000 non-null   float64\n",
      " 25  FTI measured               1000 non-null   object \n",
      " 26  FTI                        1000 non-null   float64\n",
      " 27  TBG measured               1000 non-null   object \n",
      " 28  TBG                        1000 non-null   float64\n",
      " 29  referral source            1000 non-null   object \n",
      " 30  Condition                  1000 non-null   object \n",
      "dtypes: float64(7), int64(1), object(23)\n",
      "memory usage: 242.3+ KB\n"
     ]
    }
   ],
   "source": [
    "df2.info()"
   ]
  },
  {
   "cell_type": "code",
   "execution_count": 34,
   "id": "0ca4a35c",
   "metadata": {},
   "outputs": [],
   "source": [
    "import pandas as pd\n",
    "\n",
    "numerical_columns = ['TSH','T3','TT4','T4U','FTI','TBG']  # Add all numerical columns you want to normalize\n",
    "\n",
    "# Min-Max scaling for all selected numerical columns\n",
    "for column in numerical_columns:\n",
    "    df2[column] = (df2[column] - df2[column].min()) / (df2[column].max() - df2[column].min())\n",
    "\n",
    "# Now, all selected numerical columns are normalized to the range [0, 1]\n"
   ]
  },
  {
   "cell_type": "code",
   "execution_count": 35,
   "id": "207c13d6",
   "metadata": {},
   "outputs": [],
   "source": [
    "import pandas as pd\n",
    "import numpy as np\n",
    "\n",
    "# Assuming you have a DataFrame named 'df' with multiple numerical columns\n",
    "# Example DataFrame:\n",
    "# df = pd.DataFrame({'Age': [25, 30, 35, 40, 45, 50],\n",
    "#                    'TSH': [2.5, 3.2, 1.8, 8.5, 2.0, 2.1],\n",
    "#                    'T3': [2.0, 2.5, 2.3, 2.8, 2.2, 2.1],\n",
    "#                    'TT4': [100, 120, 90, 200, 105, 110],\n",
    "#                    'T4U': [0.95, 0.92, 0.96, 0.88, 0.94, 0.93],\n",
    "#                    'FTI': [105, 130, 95, 230, 110, 118],\n",
    "#                    'TBG': [15, 18, 12, 35, 16, 17]})\n",
    "\n",
    "# Define a threshold for the Z-score (e.g., 2.5 or 3 for extreme outliers)\n",
    "z_score_threshold = 2.5\n",
    "\n",
    "# Create a new DataFrame to store the cleaned data\n",
    "df_cleaned = df2.copy()\n",
    "\n",
    "# Iterate through selected numerical columns and remove outliers\n",
    "for column in ['age', 'TSH', 'T3', 'TT4', 'T4U', 'FTI', 'TBG']:\n",
    "    # Calculate the Z-score for the current column\n",
    "    z_scores = np.abs((df_cleaned[column] - df_cleaned[column].mean()) / df_cleaned[column].std())\n",
    "\n",
    "    # Identify and remove rows with outliers based on the Z-score\n",
    "    outlier_rows = z_scores > z_score_threshold\n",
    "    df_cleaned = df_cleaned[~outlier_rows]\n",
    "\n",
    "# Now, 'df_cleaned' contains your data with outliers removed from all selected columns\n"
   ]
  },
  {
   "cell_type": "code",
   "execution_count": 36,
   "id": "ef5d34a4",
   "metadata": {},
   "outputs": [
    {
     "data": {
      "image/png": "[encoded data removed]",
      "text/plain": [
       "<Figure size 640x480 with 1 Axes>"
      ]
     },
     "metadata": {},
     "output_type": "display_data"
    }
   ],
   "source": [
    "import pandas as pd\n",
    "import matplotlib.pyplot as plt\n",
    "\n",
    "# List of columns you want to create box plots for\n",
    "selected_columns = ['age','TSH','T3','TT4','T4U','FTI','TBG']\n",
    "\n",
    "# Create box plots for the selected columns\n",
    "df_cleaned[selected_columns].boxplot()\n",
    "\n",
    "# Customize the plot (optional)\n",
    "plt.title(\"Box Plots for Selected Columns\")\n",
    "plt.ylabel(\"Values\")\n",
    "\n",
    "# Show the plot\n",
    "plt.show()"
   ]
  },
  {
   "cell_type": "code",
   "execution_count": 37,
   "id": "decb1916",
   "metadata": {},
   "outputs": [],
   "source": [
    "import pandas as pd\n",
    "import numpy as np\n",
    "\n",
    "# Assuming you have a DataFrame named 'df' with multiple numerical columns\n",
    "# Example DataFrame:\n",
    "# df = pd.DataFrame({'Age': [25, 30, 35, 40, 45, 50],\n",
    "#                    'TSH': [2.5, 3.2, 1.8, 8.5, 2.0, 2.1],\n",
    "#                    'T3': [2.0, 2.5, 2.3, 2.8, 2.2, 2.1],\n",
    "#                    'TT4': [100, 120, 90, 200, 105, 110],\n",
    "#                    'T4U': [0.95, 0.92, 0.96, 0.88, 0.94, 0.93],\n",
    "#                    'FTI': [105, 130, 95, 230, 110, 118],\n",
    "#                    'TBG': [15, 18, 12, 35, 16, 17]})\n",
    "\n",
    "# Define a threshold for the Z-score (e.g., 2.5 or 3 for extreme outliers)\n",
    "z_score_threshold = 1.5\n",
    "\n",
    "# Create a new DataFrame to store the cleaned data\n",
    "df_cleaned2 = df_cleaned.copy()\n",
    "\n",
    "# Iterate through selected numerical columns and remove outliers\n",
    "for column in ['age', 'TSH', 'T3', 'TT4', 'T4U', 'FTI', 'TBG']:\n",
    "    # Calculate the Z-score for the current column\n",
    "    z_scores = np.abs((df_cleaned2[column] - df_cleaned2[column].mean()) / df_cleaned2[column].std())\n",
    "\n",
    "    # Identify and remove rows with outliers based on the Z-score\n",
    "    outlier_rows = z_scores > z_score_threshold\n",
    "    df_cleaned2 = df_cleaned2[~outlier_rows]\n",
    "\n",
    "# Now, 'df_cleaned' contains your data with outliers removed from all selected columns\n"
   ]
  },
  {
   "cell_type": "code",
   "execution_count": 38,
   "id": "65c373b2",
   "metadata": {},
   "outputs": [
    {
     "data": {
      "image/png": "[encoded data removed]",
      "text/plain": [
       "<Figure size 640x480 with 1 Axes>"
      ]
     },
     "metadata": {},
     "output_type": "display_data"
    }
   ],
   "source": [
    "import pandas as pd\n",
    "import matplotlib.pyplot as plt\n",
    "\n",
    "# List of columns you want to create box plots for\n",
    "selected_columns = ['age','TSH','T3','TT4','T4U','FTI','TBG']\n",
    "\n",
    "# Create box plots for the selected columns\n",
    "df_cleaned2[selected_columns].boxplot()\n",
    "\n",
    "# Customize the plot (optional)\n",
    "plt.title(\"Box Plots for Selected Columns\")\n",
    "plt.ylabel(\"Values\")\n",
    "\n",
    "# Show the plot\n",
    "plt.show()"
   ]
  },
  {
   "cell_type": "code",
   "execution_count": 39,
   "id": "fc060d1b",
   "metadata": {},
   "outputs": [],
   "source": [
    "df2.to_excel('no-outliers_normalized_nonullvalues.xlsx', index=False)"
   ]
  },
  {
   "cell_type": "code",
   "execution_count": 40,
   "id": "823bcbe4",
   "metadata": {},
   "outputs": [],
   "source": [
    "df = df_cleaned2.copy()"
   ]
  },
  {
   "cell_type": "code",
   "execution_count": 41,
   "id": "4fba6197",
   "metadata": {},
   "outputs": [],
   "source": [
    "# List of columns to keep\n",
    "columns_to_keep = ['TSH', 'T3', 'TT4', 'T4U', 'FTI', 'TBG']\n",
    "\n",
    "# Use the DataFrame.drop method to remove unwanted columns\n",
    "df = df[columns_to_keep]\n",
    "\n",
    "# Now, 'df' contains only the selected columns\n"
   ]
  },
  {
   "cell_type": "code",
   "execution_count": 42,
   "id": "cc64d3e2",
   "metadata": {},
   "outputs": [
    {
     "name": "stdout",
     "output_type": "stream",
     "text": [
      "Jaccard Coefficient: 0.8305911461382517\n",
      "Simple Matching Coefficient: 0.5\n"
     ]
    }
   ],
   "source": [
    "\n",
    "\n",
    "# A3: Data Normalization\n",
    "# You can use Min-Max scaling for normalization\n",
    "min_max_scaler = lambda x: (x - x.min()) / (x.max() - x.min())\n",
    "df_normalized = df.copy()\n",
    "df_normalized[df_normalized.columns] = df_normalized[df_normalized.columns].apply(min_max_scaler)\n",
    "\n",
    "# A4: Similarity Measures - Jaccard Coefficient and Simple Matching Coefficient\n",
    "# Assuming you want to calculate these measures for the first two rows of the DataFrame\n",
    "\n",
    "# Select the first two rows (or any rows you want to compare)\n",
    "row1 = df_normalized.iloc[0, :]\n",
    "row2 = df_normalized.iloc[1, :]\n",
    "\n",
    "# Jaccard Coefficient\n",
    "jaccard_coefficient = np.sum(np.minimum(row1, row2)) / np.sum(np.maximum(row1, row2))\n",
    "\n",
    "# Simple Matching Coefficient\n",
    "smc = np.sum(np.equal(row1, row2)) / len(row1)\n",
    "\n",
    "print(\"Jaccard Coefficient:\", jaccard_coefficient)\n",
    "print(\"Simple Matching Coefficient:\", smc)\n"
   ]
  },
  {
   "cell_type": "code",
   "execution_count": 47,
   "id": "9ed17162",
   "metadata": {},
   "outputs": [
    {
     "ename": "NameError",
     "evalue": "name 'cosine' is not defined",
     "output_type": "error",
     "traceback": [
      "\u001b[1;31m---------------------------------------------------------------------------\u001b[0m",
      "\u001b[1;31mNameError\u001b[0m                                 Traceback (most recent call last)",
      "Cell \u001b[1;32mIn[47], line 37\u001b[0m\n\u001b[0;32m     34\u001b[0m     pairwise_smc\u001b[38;5;241m.\u001b[39mappend(smc)\n\u001b[0;32m     36\u001b[0m     \u001b[38;5;66;03m# Cosine Similarity\u001b[39;00m\n\u001b[1;32m---> 37\u001b[0m     cosine_sim \u001b[38;5;241m=\u001b[39m \u001b[38;5;241m1\u001b[39m \u001b[38;5;241m-\u001b[39m cosine(vector1, vector2)\n\u001b[0;32m     38\u001b[0m     pairwise_cosine\u001b[38;5;241m.\u001b[39mappend(cosine_sim)\n\u001b[0;32m     40\u001b[0m \u001b[38;5;66;03m# Create a DataFrame for the pairwise similarity measures\u001b[39;00m\n",
      "\u001b[1;31mNameError\u001b[0m: name 'cosine' is not defined"
     ]
    }
   ],
   "source": [
    "import pandas as pd\n",
    "import seaborn as sns\n",
    "import matplotlib.pyplot as plt\n",
    "from itertools import combinations\n",
    "\n",
    "\n",
    "\n",
    "# Select the first 20 observation vectors\n",
    "first_20 = df.iloc[:20, :]\n",
    "\n",
    "# A6: Calculate JC, SMC, and COS between pairs of vectors and create a heatmap\n",
    "pairwise_jc = []\n",
    "pairwise_smc = []\n",
    "pairwise_cosine = []\n",
    "\n",
    "for pair in combinations(first_20.index, 2):\n",
    "    vector1 = first_20.loc[pair[0], :]\n",
    "    vector2 = first_20.loc[pair[1], :]\n",
    "\n",
    "    # Jaccard Coefficient\n",
    "    intersection = sum((vector1 == 1) & (vector2 == 1))\n",
    "    union = sum((vector1 == 1) | (vector2 == 1))\n",
    "\n",
    "    # Avoid division by zero\n",
    "    if union == 0:\n",
    "        jc = 0.0\n",
    "    else:\n",
    "        jc = intersection / union\n",
    "\n",
    "    pairwise_jc.append(jc)\n",
    "\n",
    "    # Simple Matching Coefficient\n",
    "    smc = sum(vector1 == vector2) / len(vector1)\n",
    "    pairwise_smc.append(smc)\n",
    "\n",
    "    # Cosine Similarity\n",
    "    cosine_sim = 1 - cosine(vector1, vector2)\n",
    "    pairwise_cosine.append(cosine_sim)\n",
    "\n",
    "# Create a DataFrame for the pairwise similarity measures\n",
    "pairwise_similarity_df = pd.DataFrame({\n",
    "    'JC': pairwise_jc,\n",
    "    'SMC': pairwise_smc,\n",
    "    'COS': pairwise_cosine\n",
    "})\n",
    "\n",
    "# Create a heatmap plot\n",
    "plt.figure(figsize=(10, 8))\n",
    "sns.heatmap(pairwise_similarity_df.corr(), annot=True, cmap='coolwarm', fmt=\".2f\")\n",
    "plt.title(\"Pairwise Similarity Heatmap\")\n",
    "plt.show()\n"
   ]
  },
  {
   "cell_type": "code",
   "execution_count": null,
   "id": "8dfeb556",
   "metadata": {},
   "outputs": [],
   "source": []
  }
 ],
 "metadata": {
  "kernelspec": {
   "display_name": "Python 3 (ipykernel)",
   "language": "python",
   "name": "python3"
  },
  "language_info": {
   "codemirror_mode": {
    "name": "ipython",
    "version": 3
   },
   "file_extension": ".py",
   "mimetype": "text/x-python",
   "name": "python",
   "nbconvert_exporter": "python",
   "pygments_lexer": "ipython3",
   "version": "3.11.4"
  }
 },
 "nbformat": 4,
 "nbformat_minor": 5
}
